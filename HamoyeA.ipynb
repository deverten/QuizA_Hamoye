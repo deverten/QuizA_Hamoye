{
  "nbformat": 4,
  "nbformat_minor": 0,
  "metadata": {
    "colab": {
      "name": "HamoyeA.ipynb",
      "provenance": [],
      "collapsed_sections": [],
      "authorship_tag": "ABX9TyPvpl9ATkbobKC6fSEC7keE",
      "include_colab_link": true
    },
    "kernelspec": {
      "name": "python3",
      "display_name": "Python 3"
    }
  },
  "cells": [
    {
      "cell_type": "markdown",
      "metadata": {
        "id": "view-in-github",
        "colab_type": "text"
      },
      "source": [
        "<a href=\"https://colab.research.google.com/github/deverten/QuizA_Hamoye/blob/master/HamoyeA.ipynb\" target=\"_parent\"><img src=\"https://colab.research.google.com/assets/colab-badge.svg\" alt=\"Open In Colab\"/></a>"
      ]
    },
    {
      "cell_type": "code",
      "metadata": {
        "id": "7naLQ9Mt1pw2",
        "colab_type": "code",
        "colab": {}
      },
      "source": [
        "import numpy as np"
      ],
      "execution_count": 9,
      "outputs": []
    },
    {
      "cell_type": "code",
      "metadata": {
        "id": "sSM2y1eU1IME",
        "colab_type": "code",
        "colab": {}
      },
      "source": [
        "A = [1,2,3,4,5,6]\n",
        "B = [13, 21, 34]\n",
        "A.extend(B)"
      ],
      "execution_count": 12,
      "outputs": []
    },
    {
      "cell_type": "code",
      "metadata": {
        "id": "gXNRLj2G3pcP",
        "colab_type": "code",
        "colab": {
          "base_uri": "https://localhost:8080/",
          "height": 72
        },
        "outputId": "1578acc2-3153-4044-cfc4-02bd0ecc1321"
      },
      "source": [
        "#Identity of a matrix\n",
        "np.identity(3)\n",
        "#np.array[(1,0,0),(0,1,0),(0,0,1)]"
      ],
      "execution_count": 15,
      "outputs": [
        {
          "output_type": "execute_result",
          "data": {
            "text/plain": [
              "array([[1., 0., 0.],\n",
              "       [0., 1., 0.],\n",
              "       [0., 0., 1.]])"
            ]
          },
          "metadata": {
            "tags": []
          },
          "execution_count": 15
        }
      ]
    },
    {
      "cell_type": "code",
      "metadata": {
        "id": "nWjVqzz41FN7",
        "colab_type": "code",
        "colab": {
          "base_uri": "https://localhost:8080/",
          "height": 74
        },
        "outputId": "4f690e1d-d9b4-43dd-d813-dc503e847e6e"
      },
      "source": [
        "#importing all the necessary libraries\n",
        "import numpy as np\n",
        "import pandas as pd\n",
        "import matplotlib.pyplot as plt\n",
        "import seaborn as sn"
      ],
      "execution_count": 1,
      "outputs": [
        {
          "output_type": "stream",
          "text": [
            "/usr/local/lib/python3.6/dist-packages/statsmodels/tools/_testing.py:19: FutureWarning: pandas.util.testing is deprecated. Use the functions in the public API at pandas.testing instead.\n",
            "  import pandas.util.testing as tm\n"
          ],
          "name": "stderr"
        }
      ]
    },
    {
      "cell_type": "markdown",
      "metadata": {
        "id": "QRPyHVZ42XER",
        "colab_type": "text"
      },
      "source": [
        "**IMPORTING THE DATASETS**\n"
      ]
    },
    {
      "cell_type": "code",
      "metadata": {
        "id": "oQJMOgmm2iCV",
        "colab_type": "code",
        "colab": {
          "base_uri": "https://localhost:8080/",
          "height": 226
        },
        "outputId": "af2a0566-0435-4c7b-83aa-27e7cd37bd5c"
      },
      "source": [
        "url='https://github.com/WalePhenomenon/climate_change/blob/master/fuel_ferc1.csv?raw=true'\n",
        "fuel_data = pd.read_csv(url)\n",
        "fuel_data.head()"
      ],
      "execution_count": 18,
      "outputs": [
        {
          "output_type": "execute_result",
          "data": {
            "text/html": [
              "<div>\n",
              "<style scoped>\n",
              "    .dataframe tbody tr th:only-of-type {\n",
              "        vertical-align: middle;\n",
              "    }\n",
              "\n",
              "    .dataframe tbody tr th {\n",
              "        vertical-align: top;\n",
              "    }\n",
              "\n",
              "    .dataframe thead th {\n",
              "        text-align: right;\n",
              "    }\n",
              "</style>\n",
              "<table border=\"1\" class=\"dataframe\">\n",
              "  <thead>\n",
              "    <tr style=\"text-align: right;\">\n",
              "      <th></th>\n",
              "      <th>record_id</th>\n",
              "      <th>utility_id_ferc1</th>\n",
              "      <th>report_year</th>\n",
              "      <th>plant_name_ferc1</th>\n",
              "      <th>fuel_type_code_pudl</th>\n",
              "      <th>fuel_unit</th>\n",
              "      <th>fuel_qty_burned</th>\n",
              "      <th>fuel_mmbtu_per_unit</th>\n",
              "      <th>fuel_cost_per_unit_burned</th>\n",
              "      <th>fuel_cost_per_unit_delivered</th>\n",
              "      <th>fuel_cost_per_mmbtu</th>\n",
              "    </tr>\n",
              "  </thead>\n",
              "  <tbody>\n",
              "    <tr>\n",
              "      <th>0</th>\n",
              "      <td>f1_fuel_1994_12_1_0_7</td>\n",
              "      <td>1</td>\n",
              "      <td>1994</td>\n",
              "      <td>rockport</td>\n",
              "      <td>coal</td>\n",
              "      <td>ton</td>\n",
              "      <td>5377489.0</td>\n",
              "      <td>16.590</td>\n",
              "      <td>18.59</td>\n",
              "      <td>18.53</td>\n",
              "      <td>1.121</td>\n",
              "    </tr>\n",
              "    <tr>\n",
              "      <th>1</th>\n",
              "      <td>f1_fuel_1994_12_1_0_10</td>\n",
              "      <td>1</td>\n",
              "      <td>1994</td>\n",
              "      <td>rockport total plant</td>\n",
              "      <td>coal</td>\n",
              "      <td>ton</td>\n",
              "      <td>10486945.0</td>\n",
              "      <td>16.592</td>\n",
              "      <td>18.58</td>\n",
              "      <td>18.53</td>\n",
              "      <td>1.120</td>\n",
              "    </tr>\n",
              "    <tr>\n",
              "      <th>2</th>\n",
              "      <td>f1_fuel_1994_12_2_0_1</td>\n",
              "      <td>2</td>\n",
              "      <td>1994</td>\n",
              "      <td>gorgas</td>\n",
              "      <td>coal</td>\n",
              "      <td>ton</td>\n",
              "      <td>2978683.0</td>\n",
              "      <td>24.130</td>\n",
              "      <td>39.72</td>\n",
              "      <td>38.12</td>\n",
              "      <td>1.650</td>\n",
              "    </tr>\n",
              "    <tr>\n",
              "      <th>3</th>\n",
              "      <td>f1_fuel_1994_12_2_0_7</td>\n",
              "      <td>2</td>\n",
              "      <td>1994</td>\n",
              "      <td>barry</td>\n",
              "      <td>coal</td>\n",
              "      <td>ton</td>\n",
              "      <td>3739484.0</td>\n",
              "      <td>23.950</td>\n",
              "      <td>47.21</td>\n",
              "      <td>45.99</td>\n",
              "      <td>1.970</td>\n",
              "    </tr>\n",
              "    <tr>\n",
              "      <th>4</th>\n",
              "      <td>f1_fuel_1994_12_2_0_10</td>\n",
              "      <td>2</td>\n",
              "      <td>1994</td>\n",
              "      <td>chickasaw</td>\n",
              "      <td>gas</td>\n",
              "      <td>mcf</td>\n",
              "      <td>40533.0</td>\n",
              "      <td>1.000</td>\n",
              "      <td>2.77</td>\n",
              "      <td>2.77</td>\n",
              "      <td>2.570</td>\n",
              "    </tr>\n",
              "  </tbody>\n",
              "</table>\n",
              "</div>"
            ],
            "text/plain": [
              "                record_id  ...  fuel_cost_per_mmbtu\n",
              "0   f1_fuel_1994_12_1_0_7  ...                1.121\n",
              "1  f1_fuel_1994_12_1_0_10  ...                1.120\n",
              "2   f1_fuel_1994_12_2_0_1  ...                1.650\n",
              "3   f1_fuel_1994_12_2_0_7  ...                1.970\n",
              "4  f1_fuel_1994_12_2_0_10  ...                2.570\n",
              "\n",
              "[5 rows x 11 columns]"
            ]
          },
          "metadata": {
            "tags": []
          },
          "execution_count": 18
        }
      ]
    },
    {
      "cell_type": "code",
      "metadata": {
        "id": "xPY8BVxt2g1J",
        "colab_type": "code",
        "colab": {
          "base_uri": "https://localhost:8080/",
          "height": 348
        },
        "outputId": "8c86b2a9-348b-49e2-ae16-22982afbfb7d"
      },
      "source": [
        "# To get a brief information of the data\n",
        "fuel_data.info()"
      ],
      "execution_count": null,
      "outputs": [
        {
          "output_type": "stream",
          "text": [
            "<class 'pandas.core.frame.DataFrame'>\n",
            "RangeIndex: 29523 entries, 0 to 29522\n",
            "Data columns (total 11 columns):\n",
            " #   Column                        Non-Null Count  Dtype  \n",
            "---  ------                        --------------  -----  \n",
            " 0   record_id                     29523 non-null  object \n",
            " 1   utility_id_ferc1              29523 non-null  int64  \n",
            " 2   report_year                   29523 non-null  int64  \n",
            " 3   plant_name_ferc1              29523 non-null  object \n",
            " 4   fuel_type_code_pudl           29523 non-null  object \n",
            " 5   fuel_unit                     29343 non-null  object \n",
            " 6   fuel_qty_burned               29523 non-null  float64\n",
            " 7   fuel_mmbtu_per_unit           29523 non-null  float64\n",
            " 8   fuel_cost_per_unit_burned     29523 non-null  float64\n",
            " 9   fuel_cost_per_unit_delivered  29523 non-null  float64\n",
            " 10  fuel_cost_per_mmbtu           29523 non-null  float64\n",
            "dtypes: float64(5), int64(2), object(4)\n",
            "memory usage: 2.5+ MB\n"
          ],
          "name": "stdout"
        }
      ]
    },
    {
      "cell_type": "markdown",
      "metadata": {
        "id": "mL_zvM_e3aDu",
        "colab_type": "text"
      },
      "source": [
        "**DEALING WITH MISSING DATA**\n",
        "\n"
      ]
    },
    {
      "cell_type": "code",
      "metadata": {
        "id": "k0G_UcgP3uWH",
        "colab_type": "code",
        "colab": {
          "base_uri": "https://localhost:8080/",
          "height": 237
        },
        "outputId": "af60588d-250f-4420-9933-58c73b9088e3"
      },
      "source": [
        "#To know which of the columns contain missing data\n",
        "fuel_data.isnull().sum()"
      ],
      "execution_count": null,
      "outputs": [
        {
          "output_type": "execute_result",
          "data": {
            "text/plain": [
              "record_id                         0\n",
              "utility_id_ferc1                  0\n",
              "report_year                       0\n",
              "plant_name_ferc1                  0\n",
              "fuel_type_code_pudl               0\n",
              "fuel_unit                       180\n",
              "fuel_qty_burned                   0\n",
              "fuel_mmbtu_per_unit               0\n",
              "fuel_cost_per_unit_burned         0\n",
              "fuel_cost_per_unit_delivered      0\n",
              "fuel_cost_per_mmbtu               0\n",
              "dtype: int64"
            ]
          },
          "metadata": {
            "tags": []
          },
          "execution_count": 10
        }
      ]
    },
    {
      "cell_type": "code",
      "metadata": {
        "id": "_E3vt9114Auk",
        "colab_type": "code",
        "colab": {
          "base_uri": "https://localhost:8080/",
          "height": 219
        },
        "outputId": "496e0660-ac32-44f1-a612-295d9e19b5de"
      },
      "source": [
        "# In order to fill the missing blanks with values let's group the fuel_unit values first\n",
        "fuel_data.groupby('fuel_unit')['fuel_unit'].count()"
      ],
      "execution_count": null,
      "outputs": [
        {
          "output_type": "execute_result",
          "data": {
            "text/plain": [
              "fuel_unit\n",
              "bbl        7998\n",
              "gal          84\n",
              "gramsU      464\n",
              "kgU         110\n",
              "mcf       11354\n",
              "mmbtu       180\n",
              "mwdth        95\n",
              "mwhth       100\n",
              "ton        8958\n",
              "Name: fuel_unit, dtype: int64"
            ]
          },
          "metadata": {
            "tags": []
          },
          "execution_count": 15
        }
      ]
    },
    {
      "cell_type": "code",
      "metadata": {
        "id": "fjjNx3X15Bn-",
        "colab_type": "code",
        "colab": {}
      },
      "source": [
        "# since the 'mcf' unit has more values compared to the others, filling the missing data's with 'mcf' would have little or no consequences on the analysis.\n",
        "fuel_data[['fuel_unit']] = fuel_data[['fuel_unit']].fillna(value='mcf')"
      ],
      "execution_count": null,
      "outputs": []
    },
    {
      "cell_type": "code",
      "metadata": {
        "id": "VbQD0JzO7Jlo",
        "colab_type": "code",
        "colab": {
          "base_uri": "https://localhost:8080/",
          "height": 237
        },
        "outputId": "798c68c0-d5b9-45f3-9c51-f4db74130ee8"
      },
      "source": [
        "# Checking if all empty values have been filled\n",
        "fuel_data.isnull().sum()"
      ],
      "execution_count": null,
      "outputs": [
        {
          "output_type": "execute_result",
          "data": {
            "text/plain": [
              "record_id                       0\n",
              "utility_id_ferc1                0\n",
              "report_year                     0\n",
              "plant_name_ferc1                0\n",
              "fuel_type_code_pudl             0\n",
              "fuel_unit                       0\n",
              "fuel_qty_burned                 0\n",
              "fuel_mmbtu_per_unit             0\n",
              "fuel_cost_per_unit_burned       0\n",
              "fuel_cost_per_unit_delivered    0\n",
              "fuel_cost_per_mmbtu             0\n",
              "dtype: int64"
            ]
          },
          "metadata": {
            "tags": []
          },
          "execution_count": 17
        }
      ]
    },
    {
      "cell_type": "markdown",
      "metadata": {
        "id": "0bFJzN6U5fh_",
        "colab_type": "text"
      },
      "source": [
        "**GROUPING DATA**\n"
      ]
    },
    {
      "cell_type": "code",
      "metadata": {
        "id": "5AheB3_j5oBI",
        "colab_type": "code",
        "colab": {
          "base_uri": "https://localhost:8080/",
          "height": 269
        },
        "outputId": "d8136a78-34a5-498e-c130-4ebd4afbb23c"
      },
      "source": [
        "ftca = fuel_data[['fuel_type_code_pudl','fuel_cost_per_unit_burned']].groupby('fuel_type_code_pudl').sum()\n",
        "ftca"
      ],
      "execution_count": 20,
      "outputs": [
        {
          "output_type": "execute_result",
          "data": {
            "text/html": [
              "<div>\n",
              "<style scoped>\n",
              "    .dataframe tbody tr th:only-of-type {\n",
              "        vertical-align: middle;\n",
              "    }\n",
              "\n",
              "    .dataframe tbody tr th {\n",
              "        vertical-align: top;\n",
              "    }\n",
              "\n",
              "    .dataframe thead th {\n",
              "        text-align: right;\n",
              "    }\n",
              "</style>\n",
              "<table border=\"1\" class=\"dataframe\">\n",
              "  <thead>\n",
              "    <tr style=\"text-align: right;\">\n",
              "      <th></th>\n",
              "      <th>fuel_cost_per_unit_burned</th>\n",
              "    </tr>\n",
              "    <tr>\n",
              "      <th>fuel_type_code_pudl</th>\n",
              "      <th></th>\n",
              "    </tr>\n",
              "  </thead>\n",
              "  <tbody>\n",
              "    <tr>\n",
              "      <th>coal</th>\n",
              "      <td>576254.381</td>\n",
              "    </tr>\n",
              "    <tr>\n",
              "      <th>gas</th>\n",
              "      <td>156891.829</td>\n",
              "    </tr>\n",
              "    <tr>\n",
              "      <th>nuclear</th>\n",
              "      <td>4053318.428</td>\n",
              "    </tr>\n",
              "    <tr>\n",
              "      <th>oil</th>\n",
              "      <td>1361824.819</td>\n",
              "    </tr>\n",
              "    <tr>\n",
              "      <th>other</th>\n",
              "      <td>3048.394</td>\n",
              "    </tr>\n",
              "    <tr>\n",
              "      <th>waste</th>\n",
              "      <td>8607.492</td>\n",
              "    </tr>\n",
              "  </tbody>\n",
              "</table>\n",
              "</div>"
            ],
            "text/plain": [
              "                     fuel_cost_per_unit_burned\n",
              "fuel_type_code_pudl                           \n",
              "coal                                576254.381\n",
              "gas                                 156891.829\n",
              "nuclear                            4053318.428\n",
              "oil                                1361824.819\n",
              "other                                 3048.394\n",
              "waste                                 8607.492"
            ]
          },
          "metadata": {
            "tags": []
          },
          "execution_count": 20
        }
      ]
    },
    {
      "cell_type": "code",
      "metadata": {
        "id": "HxLt2Zde6RIY",
        "colab_type": "code",
        "colab": {
          "base_uri": "https://localhost:8080/",
          "height": 320
        },
        "outputId": "e142cd8a-f9c8-41bb-baf4-bdba041c8471"
      },
      "source": [
        "fuel_data.describe()"
      ],
      "execution_count": 21,
      "outputs": [
        {
          "output_type": "execute_result",
          "data": {
            "text/html": [
              "<div>\n",
              "<style scoped>\n",
              "    .dataframe tbody tr th:only-of-type {\n",
              "        vertical-align: middle;\n",
              "    }\n",
              "\n",
              "    .dataframe tbody tr th {\n",
              "        vertical-align: top;\n",
              "    }\n",
              "\n",
              "    .dataframe thead th {\n",
              "        text-align: right;\n",
              "    }\n",
              "</style>\n",
              "<table border=\"1\" class=\"dataframe\">\n",
              "  <thead>\n",
              "    <tr style=\"text-align: right;\">\n",
              "      <th></th>\n",
              "      <th>utility_id_ferc1</th>\n",
              "      <th>report_year</th>\n",
              "      <th>fuel_qty_burned</th>\n",
              "      <th>fuel_mmbtu_per_unit</th>\n",
              "      <th>fuel_cost_per_unit_burned</th>\n",
              "      <th>fuel_cost_per_unit_delivered</th>\n",
              "      <th>fuel_cost_per_mmbtu</th>\n",
              "    </tr>\n",
              "  </thead>\n",
              "  <tbody>\n",
              "    <tr>\n",
              "      <th>count</th>\n",
              "      <td>29523.000000</td>\n",
              "      <td>29523.000000</td>\n",
              "      <td>2.952300e+04</td>\n",
              "      <td>29523.000000</td>\n",
              "      <td>29523.000000</td>\n",
              "      <td>2.952300e+04</td>\n",
              "      <td>29523.000000</td>\n",
              "    </tr>\n",
              "    <tr>\n",
              "      <th>mean</th>\n",
              "      <td>118.601836</td>\n",
              "      <td>2005.806050</td>\n",
              "      <td>2.622119e+06</td>\n",
              "      <td>8.492111</td>\n",
              "      <td>208.649031</td>\n",
              "      <td>9.175704e+02</td>\n",
              "      <td>19.304354</td>\n",
              "    </tr>\n",
              "    <tr>\n",
              "      <th>std</th>\n",
              "      <td>74.178353</td>\n",
              "      <td>7.025483</td>\n",
              "      <td>9.118004e+06</td>\n",
              "      <td>10.600220</td>\n",
              "      <td>2854.490090</td>\n",
              "      <td>6.877593e+04</td>\n",
              "      <td>2091.540939</td>\n",
              "    </tr>\n",
              "    <tr>\n",
              "      <th>min</th>\n",
              "      <td>1.000000</td>\n",
              "      <td>1994.000000</td>\n",
              "      <td>1.000000e+00</td>\n",
              "      <td>0.000001</td>\n",
              "      <td>-276.080000</td>\n",
              "      <td>-8.749370e+02</td>\n",
              "      <td>-41.501000</td>\n",
              "    </tr>\n",
              "    <tr>\n",
              "      <th>25%</th>\n",
              "      <td>55.000000</td>\n",
              "      <td>2000.000000</td>\n",
              "      <td>1.381700e+04</td>\n",
              "      <td>1.024000</td>\n",
              "      <td>5.207000</td>\n",
              "      <td>3.778500e+00</td>\n",
              "      <td>1.940000</td>\n",
              "    </tr>\n",
              "    <tr>\n",
              "      <th>50%</th>\n",
              "      <td>122.000000</td>\n",
              "      <td>2006.000000</td>\n",
              "      <td>2.533220e+05</td>\n",
              "      <td>5.762694</td>\n",
              "      <td>26.000000</td>\n",
              "      <td>1.737100e+01</td>\n",
              "      <td>4.127000</td>\n",
              "    </tr>\n",
              "    <tr>\n",
              "      <th>75%</th>\n",
              "      <td>176.000000</td>\n",
              "      <td>2012.000000</td>\n",
              "      <td>1.424034e+06</td>\n",
              "      <td>17.006000</td>\n",
              "      <td>47.113000</td>\n",
              "      <td>4.213700e+01</td>\n",
              "      <td>7.745000</td>\n",
              "    </tr>\n",
              "    <tr>\n",
              "      <th>max</th>\n",
              "      <td>514.000000</td>\n",
              "      <td>2018.000000</td>\n",
              "      <td>5.558942e+08</td>\n",
              "      <td>341.260000</td>\n",
              "      <td>139358.000000</td>\n",
              "      <td>7.964521e+06</td>\n",
              "      <td>359278.000000</td>\n",
              "    </tr>\n",
              "  </tbody>\n",
              "</table>\n",
              "</div>"
            ],
            "text/plain": [
              "       utility_id_ferc1  ...  fuel_cost_per_mmbtu\n",
              "count      29523.000000  ...         29523.000000\n",
              "mean         118.601836  ...            19.304354\n",
              "std           74.178353  ...          2091.540939\n",
              "min            1.000000  ...           -41.501000\n",
              "25%           55.000000  ...             1.940000\n",
              "50%          122.000000  ...             4.127000\n",
              "75%          176.000000  ...             7.745000\n",
              "max          514.000000  ...        359278.000000\n",
              "\n",
              "[8 rows x 7 columns]"
            ]
          },
          "metadata": {
            "tags": []
          },
          "execution_count": 21
        }
      ]
    },
    {
      "cell_type": "code",
      "metadata": {
        "id": "ybayrt8j6u4o",
        "colab_type": "code",
        "colab": {
          "base_uri": "https://localhost:8080/",
          "height": 237
        },
        "outputId": "50719576-b3a7-4bba-ec9d-3d9e2f0c3726"
      },
      "source": [
        "#Dealing with missing data\n",
        "#To know which of the columns contain missing data\n",
        "fuel_data.isnull().sum()"
      ],
      "execution_count": 22,
      "outputs": [
        {
          "output_type": "execute_result",
          "data": {
            "text/plain": [
              "record_id                         0\n",
              "utility_id_ferc1                  0\n",
              "report_year                       0\n",
              "plant_name_ferc1                  0\n",
              "fuel_type_code_pudl               0\n",
              "fuel_unit                       180\n",
              "fuel_qty_burned                   0\n",
              "fuel_mmbtu_per_unit               0\n",
              "fuel_cost_per_unit_burned         0\n",
              "fuel_cost_per_unit_delivered      0\n",
              "fuel_cost_per_mmbtu               0\n",
              "dtype: int64"
            ]
          },
          "metadata": {
            "tags": []
          },
          "execution_count": 22
        }
      ]
    },
    {
      "cell_type": "code",
      "metadata": {
        "id": "2ptx_CGs70VN",
        "colab_type": "code",
        "colab": {
          "base_uri": "https://localhost:8080/",
          "height": 237
        },
        "outputId": "6a7acc4e-770f-4d00-94a4-836b336c0d9a"
      },
      "source": [
        "#to get the percentage of missing data in each column\n",
        "(fuel_data.isnull().sum()/len(fuel_data))*100"
      ],
      "execution_count": 23,
      "outputs": [
        {
          "output_type": "execute_result",
          "data": {
            "text/plain": [
              "record_id                       0.000000\n",
              "utility_id_ferc1                0.000000\n",
              "report_year                     0.000000\n",
              "plant_name_ferc1                0.000000\n",
              "fuel_type_code_pudl             0.000000\n",
              "fuel_unit                       0.609694\n",
              "fuel_qty_burned                 0.000000\n",
              "fuel_mmbtu_per_unit             0.000000\n",
              "fuel_cost_per_unit_burned       0.000000\n",
              "fuel_cost_per_unit_delivered    0.000000\n",
              "fuel_cost_per_mmbtu             0.000000\n",
              "dtype: float64"
            ]
          },
          "metadata": {
            "tags": []
          },
          "execution_count": 23
        }
      ]
    },
    {
      "cell_type": "code",
      "metadata": {
        "id": "uCWFU_Wm8TZD",
        "colab_type": "code",
        "colab": {
          "base_uri": "https://localhost:8080/",
          "height": 269
        },
        "outputId": "5bf65bcf-e67d-4d14-a13d-78a0168a5598"
      },
      "source": [
        "#To see the quantitiy of fuel cost per unit burned , we use the groupby method and sum the values\n",
        "ft = fuel_data[['fuel_type_code_pudl','fuel_cost_per_unit_burned']].groupby('fuel_type_code_pudl').sum()\n",
        "ft"
      ],
      "execution_count": 27,
      "outputs": [
        {
          "output_type": "execute_result",
          "data": {
            "text/html": [
              "<div>\n",
              "<style scoped>\n",
              "    .dataframe tbody tr th:only-of-type {\n",
              "        vertical-align: middle;\n",
              "    }\n",
              "\n",
              "    .dataframe tbody tr th {\n",
              "        vertical-align: top;\n",
              "    }\n",
              "\n",
              "    .dataframe thead th {\n",
              "        text-align: right;\n",
              "    }\n",
              "</style>\n",
              "<table border=\"1\" class=\"dataframe\">\n",
              "  <thead>\n",
              "    <tr style=\"text-align: right;\">\n",
              "      <th></th>\n",
              "      <th>fuel_cost_per_unit_burned</th>\n",
              "    </tr>\n",
              "    <tr>\n",
              "      <th>fuel_type_code_pudl</th>\n",
              "      <th></th>\n",
              "    </tr>\n",
              "  </thead>\n",
              "  <tbody>\n",
              "    <tr>\n",
              "      <th>coal</th>\n",
              "      <td>576254.381</td>\n",
              "    </tr>\n",
              "    <tr>\n",
              "      <th>gas</th>\n",
              "      <td>156891.829</td>\n",
              "    </tr>\n",
              "    <tr>\n",
              "      <th>nuclear</th>\n",
              "      <td>4053318.428</td>\n",
              "    </tr>\n",
              "    <tr>\n",
              "      <th>oil</th>\n",
              "      <td>1361824.819</td>\n",
              "    </tr>\n",
              "    <tr>\n",
              "      <th>other</th>\n",
              "      <td>3048.394</td>\n",
              "    </tr>\n",
              "    <tr>\n",
              "      <th>waste</th>\n",
              "      <td>8607.492</td>\n",
              "    </tr>\n",
              "  </tbody>\n",
              "</table>\n",
              "</div>"
            ],
            "text/plain": [
              "                     fuel_cost_per_unit_burned\n",
              "fuel_type_code_pudl                           \n",
              "coal                                576254.381\n",
              "gas                                 156891.829\n",
              "nuclear                            4053318.428\n",
              "oil                                1361824.819\n",
              "other                                 3048.394\n",
              "waste                                 8607.492"
            ]
          },
          "metadata": {
            "tags": []
          },
          "execution_count": 27
        }
      ]
    },
    {
      "cell_type": "code",
      "metadata": {
        "id": "vpE3dBrX9O8a",
        "colab_type": "code",
        "colab": {
          "base_uri": "https://localhost:8080/",
          "height": 865
        },
        "outputId": "3021d50e-9379-420f-c395-4756eae265ff"
      },
      "source": [
        "# To see the years with the highest fuel usage\n",
        "years = fuel_data[['report_year','fuel_cost_per_unit_burned']].groupby('report_year').sum()\n",
        "years"
      ],
      "execution_count": 28,
      "outputs": [
        {
          "output_type": "execute_result",
          "data": {
            "text/html": [
              "<div>\n",
              "<style scoped>\n",
              "    .dataframe tbody tr th:only-of-type {\n",
              "        vertical-align: middle;\n",
              "    }\n",
              "\n",
              "    .dataframe tbody tr th {\n",
              "        vertical-align: top;\n",
              "    }\n",
              "\n",
              "    .dataframe thead th {\n",
              "        text-align: right;\n",
              "    }\n",
              "</style>\n",
              "<table border=\"1\" class=\"dataframe\">\n",
              "  <thead>\n",
              "    <tr style=\"text-align: right;\">\n",
              "      <th></th>\n",
              "      <th>fuel_cost_per_unit_burned</th>\n",
              "    </tr>\n",
              "    <tr>\n",
              "      <th>report_year</th>\n",
              "      <th></th>\n",
              "    </tr>\n",
              "  </thead>\n",
              "  <tbody>\n",
              "    <tr>\n",
              "      <th>1994</th>\n",
              "      <td>263292.115</td>\n",
              "    </tr>\n",
              "    <tr>\n",
              "      <th>1995</th>\n",
              "      <td>425661.488</td>\n",
              "    </tr>\n",
              "    <tr>\n",
              "      <th>1996</th>\n",
              "      <td>86425.275</td>\n",
              "    </tr>\n",
              "    <tr>\n",
              "      <th>1997</th>\n",
              "      <td>163533.452</td>\n",
              "    </tr>\n",
              "    <tr>\n",
              "      <th>1998</th>\n",
              "      <td>140238.656</td>\n",
              "    </tr>\n",
              "    <tr>\n",
              "      <th>1999</th>\n",
              "      <td>126056.285</td>\n",
              "    </tr>\n",
              "    <tr>\n",
              "      <th>2000</th>\n",
              "      <td>326495.434</td>\n",
              "    </tr>\n",
              "    <tr>\n",
              "      <th>2001</th>\n",
              "      <td>180365.641</td>\n",
              "    </tr>\n",
              "    <tr>\n",
              "      <th>2002</th>\n",
              "      <td>121921.135</td>\n",
              "    </tr>\n",
              "    <tr>\n",
              "      <th>2003</th>\n",
              "      <td>149175.726</td>\n",
              "    </tr>\n",
              "    <tr>\n",
              "      <th>2004</th>\n",
              "      <td>184637.699</td>\n",
              "    </tr>\n",
              "    <tr>\n",
              "      <th>2005</th>\n",
              "      <td>135924.139</td>\n",
              "    </tr>\n",
              "    <tr>\n",
              "      <th>2006</th>\n",
              "      <td>188142.032</td>\n",
              "    </tr>\n",
              "    <tr>\n",
              "      <th>2007</th>\n",
              "      <td>256114.312</td>\n",
              "    </tr>\n",
              "    <tr>\n",
              "      <th>2008</th>\n",
              "      <td>314312.022</td>\n",
              "    </tr>\n",
              "    <tr>\n",
              "      <th>2009</th>\n",
              "      <td>263584.566</td>\n",
              "    </tr>\n",
              "    <tr>\n",
              "      <th>2010</th>\n",
              "      <td>331581.467</td>\n",
              "    </tr>\n",
              "    <tr>\n",
              "      <th>2011</th>\n",
              "      <td>374175.603</td>\n",
              "    </tr>\n",
              "    <tr>\n",
              "      <th>2012</th>\n",
              "      <td>321693.544</td>\n",
              "    </tr>\n",
              "    <tr>\n",
              "      <th>2013</th>\n",
              "      <td>306933.236</td>\n",
              "    </tr>\n",
              "    <tr>\n",
              "      <th>2014</th>\n",
              "      <td>518002.469</td>\n",
              "    </tr>\n",
              "    <tr>\n",
              "      <th>2015</th>\n",
              "      <td>260060.984</td>\n",
              "    </tr>\n",
              "    <tr>\n",
              "      <th>2016</th>\n",
              "      <td>255484.814</td>\n",
              "    </tr>\n",
              "    <tr>\n",
              "      <th>2017</th>\n",
              "      <td>244557.823</td>\n",
              "    </tr>\n",
              "    <tr>\n",
              "      <th>2018</th>\n",
              "      <td>221575.426</td>\n",
              "    </tr>\n",
              "  </tbody>\n",
              "</table>\n",
              "</div>"
            ],
            "text/plain": [
              "             fuel_cost_per_unit_burned\n",
              "report_year                           \n",
              "1994                        263292.115\n",
              "1995                        425661.488\n",
              "1996                         86425.275\n",
              "1997                        163533.452\n",
              "1998                        140238.656\n",
              "1999                        126056.285\n",
              "2000                        326495.434\n",
              "2001                        180365.641\n",
              "2002                        121921.135\n",
              "2003                        149175.726\n",
              "2004                        184637.699\n",
              "2005                        135924.139\n",
              "2006                        188142.032\n",
              "2007                        256114.312\n",
              "2008                        314312.022\n",
              "2009                        263584.566\n",
              "2010                        331581.467\n",
              "2011                        374175.603\n",
              "2012                        321693.544\n",
              "2013                        306933.236\n",
              "2014                        518002.469\n",
              "2015                        260060.984\n",
              "2016                        255484.814\n",
              "2017                        244557.823\n",
              "2018                        221575.426"
            ]
          },
          "metadata": {
            "tags": []
          },
          "execution_count": 28
        }
      ]
    },
    {
      "cell_type": "code",
      "metadata": {
        "id": "2-2FF16I9ZRI",
        "colab_type": "code",
        "colab": {
          "base_uri": "https://localhost:8080/",
          "height": 455
        },
        "outputId": "0ba4a027-3704-42f6-93b8-303e425d7c02"
      },
      "source": [
        "#\n",
        "fuel_data[['fuel_type_code_pudl','report_year','fuel_cost_per_unit_burned']].groupby(['fuel_type_code_pudl','report_year']).sum()"
      ],
      "execution_count": 29,
      "outputs": [
        {
          "output_type": "execute_result",
          "data": {
            "text/html": [
              "<div>\n",
              "<style scoped>\n",
              "    .dataframe tbody tr th:only-of-type {\n",
              "        vertical-align: middle;\n",
              "    }\n",
              "\n",
              "    .dataframe tbody tr th {\n",
              "        vertical-align: top;\n",
              "    }\n",
              "\n",
              "    .dataframe thead th {\n",
              "        text-align: right;\n",
              "    }\n",
              "</style>\n",
              "<table border=\"1\" class=\"dataframe\">\n",
              "  <thead>\n",
              "    <tr style=\"text-align: right;\">\n",
              "      <th></th>\n",
              "      <th></th>\n",
              "      <th>fuel_cost_per_unit_burned</th>\n",
              "    </tr>\n",
              "    <tr>\n",
              "      <th>fuel_type_code_pudl</th>\n",
              "      <th>report_year</th>\n",
              "      <th></th>\n",
              "    </tr>\n",
              "  </thead>\n",
              "  <tbody>\n",
              "    <tr>\n",
              "      <th rowspan=\"5\" valign=\"top\">coal</th>\n",
              "      <th>1994</th>\n",
              "      <td>14984.572</td>\n",
              "    </tr>\n",
              "    <tr>\n",
              "      <th>1995</th>\n",
              "      <td>14571.785</td>\n",
              "    </tr>\n",
              "    <tr>\n",
              "      <th>1996</th>\n",
              "      <td>12694.803</td>\n",
              "    </tr>\n",
              "    <tr>\n",
              "      <th>1997</th>\n",
              "      <td>43742.178</td>\n",
              "    </tr>\n",
              "    <tr>\n",
              "      <th>1998</th>\n",
              "      <td>11902.597</td>\n",
              "    </tr>\n",
              "    <tr>\n",
              "      <th>...</th>\n",
              "      <th>...</th>\n",
              "      <td>...</td>\n",
              "    </tr>\n",
              "    <tr>\n",
              "      <th rowspan=\"5\" valign=\"top\">waste</th>\n",
              "      <th>2014</th>\n",
              "      <td>591.594</td>\n",
              "    </tr>\n",
              "    <tr>\n",
              "      <th>2015</th>\n",
              "      <td>629.270</td>\n",
              "    </tr>\n",
              "    <tr>\n",
              "      <th>2016</th>\n",
              "      <td>539.079</td>\n",
              "    </tr>\n",
              "    <tr>\n",
              "      <th>2017</th>\n",
              "      <td>452.079</td>\n",
              "    </tr>\n",
              "    <tr>\n",
              "      <th>2018</th>\n",
              "      <td>660.972</td>\n",
              "    </tr>\n",
              "  </tbody>\n",
              "</table>\n",
              "<p>148 rows × 1 columns</p>\n",
              "</div>"
            ],
            "text/plain": [
              "                                 fuel_cost_per_unit_burned\n",
              "fuel_type_code_pudl report_year                           \n",
              "coal                1994                         14984.572\n",
              "                    1995                         14571.785\n",
              "                    1996                         12694.803\n",
              "                    1997                         43742.178\n",
              "                    1998                         11902.597\n",
              "...                                                    ...\n",
              "waste               2014                           591.594\n",
              "                    2015                           629.270\n",
              "                    2016                           539.079\n",
              "                    2017                           452.079\n",
              "                    2018                           660.972\n",
              "\n",
              "[148 rows x 1 columns]"
            ]
          },
          "metadata": {
            "tags": []
          },
          "execution_count": 29
        }
      ]
    },
    {
      "cell_type": "code",
      "metadata": {
        "id": "2ur-d-c6-vKt",
        "colab_type": "code",
        "colab": {
          "base_uri": "https://localhost:8080/",
          "height": 865
        },
        "outputId": "855bdee8-4367-4897-e107-5ea739d4fafb"
      },
      "source": [
        "# we can also group by the year, to see the years with the highest fuel cost per unit delivered\n",
        "fuel_delivered = fuel_data[['report_year','fuel_cost_per_unit_delivered']].groupby('report_year').sum()\n",
        "fuel_delivered"
      ],
      "execution_count": 31,
      "outputs": [
        {
          "output_type": "execute_result",
          "data": {
            "text/html": [
              "<div>\n",
              "<style scoped>\n",
              "    .dataframe tbody tr th:only-of-type {\n",
              "        vertical-align: middle;\n",
              "    }\n",
              "\n",
              "    .dataframe tbody tr th {\n",
              "        vertical-align: top;\n",
              "    }\n",
              "\n",
              "    .dataframe thead th {\n",
              "        text-align: right;\n",
              "    }\n",
              "</style>\n",
              "<table border=\"1\" class=\"dataframe\">\n",
              "  <thead>\n",
              "    <tr style=\"text-align: right;\">\n",
              "      <th></th>\n",
              "      <th>fuel_cost_per_unit_delivered</th>\n",
              "    </tr>\n",
              "    <tr>\n",
              "      <th>report_year</th>\n",
              "      <th></th>\n",
              "    </tr>\n",
              "  </thead>\n",
              "  <tbody>\n",
              "    <tr>\n",
              "      <th>1994</th>\n",
              "      <td>7.859053e+04</td>\n",
              "    </tr>\n",
              "    <tr>\n",
              "      <th>1995</th>\n",
              "      <td>3.931506e+04</td>\n",
              "    </tr>\n",
              "    <tr>\n",
              "      <th>1996</th>\n",
              "      <td>1.000602e+07</td>\n",
              "    </tr>\n",
              "    <tr>\n",
              "      <th>1997</th>\n",
              "      <td>1.218738e+07</td>\n",
              "    </tr>\n",
              "    <tr>\n",
              "      <th>1998</th>\n",
              "      <td>3.178799e+05</td>\n",
              "    </tr>\n",
              "    <tr>\n",
              "      <th>1999</th>\n",
              "      <td>2.682921e+04</td>\n",
              "    </tr>\n",
              "    <tr>\n",
              "      <th>2000</th>\n",
              "      <td>1.352903e+06</td>\n",
              "    </tr>\n",
              "    <tr>\n",
              "      <th>2001</th>\n",
              "      <td>8.142834e+04</td>\n",
              "    </tr>\n",
              "    <tr>\n",
              "      <th>2002</th>\n",
              "      <td>5.735121e+04</td>\n",
              "    </tr>\n",
              "    <tr>\n",
              "      <th>2003</th>\n",
              "      <td>6.740849e+04</td>\n",
              "    </tr>\n",
              "    <tr>\n",
              "      <th>2004</th>\n",
              "      <td>1.663129e+05</td>\n",
              "    </tr>\n",
              "    <tr>\n",
              "      <th>2005</th>\n",
              "      <td>5.258506e+04</td>\n",
              "    </tr>\n",
              "    <tr>\n",
              "      <th>2006</th>\n",
              "      <td>4.805125e+04</td>\n",
              "    </tr>\n",
              "    <tr>\n",
              "      <th>2007</th>\n",
              "      <td>5.476283e+04</td>\n",
              "    </tr>\n",
              "    <tr>\n",
              "      <th>2008</th>\n",
              "      <td>7.194631e+04</td>\n",
              "    </tr>\n",
              "    <tr>\n",
              "      <th>2009</th>\n",
              "      <td>7.975923e+05</td>\n",
              "    </tr>\n",
              "    <tr>\n",
              "      <th>2010</th>\n",
              "      <td>1.158381e+05</td>\n",
              "    </tr>\n",
              "    <tr>\n",
              "      <th>2011</th>\n",
              "      <td>7.412059e+04</td>\n",
              "    </tr>\n",
              "    <tr>\n",
              "      <th>2012</th>\n",
              "      <td>7.581617e+04</td>\n",
              "    </tr>\n",
              "    <tr>\n",
              "      <th>2013</th>\n",
              "      <td>2.065968e+05</td>\n",
              "    </tr>\n",
              "    <tr>\n",
              "      <th>2014</th>\n",
              "      <td>2.256952e+05</td>\n",
              "    </tr>\n",
              "    <tr>\n",
              "      <th>2015</th>\n",
              "      <td>3.569033e+05</td>\n",
              "    </tr>\n",
              "    <tr>\n",
              "      <th>2016</th>\n",
              "      <td>1.074344e+05</td>\n",
              "    </tr>\n",
              "    <tr>\n",
              "      <th>2017</th>\n",
              "      <td>4.587348e+04</td>\n",
              "    </tr>\n",
              "    <tr>\n",
              "      <th>2018</th>\n",
              "      <td>4.748057e+05</td>\n",
              "    </tr>\n",
              "  </tbody>\n",
              "</table>\n",
              "</div>"
            ],
            "text/plain": [
              "             fuel_cost_per_unit_delivered\n",
              "report_year                              \n",
              "1994                         7.859053e+04\n",
              "1995                         3.931506e+04\n",
              "1996                         1.000602e+07\n",
              "1997                         1.218738e+07\n",
              "1998                         3.178799e+05\n",
              "1999                         2.682921e+04\n",
              "2000                         1.352903e+06\n",
              "2001                         8.142834e+04\n",
              "2002                         5.735121e+04\n",
              "2003                         6.740849e+04\n",
              "2004                         1.663129e+05\n",
              "2005                         5.258506e+04\n",
              "2006                         4.805125e+04\n",
              "2007                         5.476283e+04\n",
              "2008                         7.194631e+04\n",
              "2009                         7.975923e+05\n",
              "2010                         1.158381e+05\n",
              "2011                         7.412059e+04\n",
              "2012                         7.581617e+04\n",
              "2013                         2.065968e+05\n",
              "2014                         2.256952e+05\n",
              "2015                         3.569033e+05\n",
              "2016                         1.074344e+05\n",
              "2017                         4.587348e+04\n",
              "2018                         4.748057e+05"
            ]
          },
          "metadata": {
            "tags": []
          },
          "execution_count": 31
        }
      ]
    },
    {
      "cell_type": "code",
      "metadata": {
        "id": "uDdGzaxp_2EO",
        "colab_type": "code",
        "colab": {}
      },
      "source": [
        ""
      ],
      "execution_count": null,
      "outputs": []
    }
  ]
}