{
  "nbformat": 4,
  "nbformat_minor": 0,
  "metadata": {
    "colab": {
      "name": "StageCQuiz.ipynb",
      "provenance": [],
      "authorship_tag": "ABX9TyM5W4HI9VfX6SBm7k2m9gOs",
      "include_colab_link": true
    },
    "kernelspec": {
      "name": "python3",
      "display_name": "Python 3"
    }
  },
  "cells": [
    {
      "cell_type": "markdown",
      "metadata": {
        "id": "view-in-github",
        "colab_type": "text"
      },
      "source": [
        "<a href=\"https://colab.research.google.com/github/deverten/QuizA_Hamoye/blob/master/StageCQuiz.ipynb\" target=\"_parent\"><img src=\"https://colab.research.google.com/assets/colab-badge.svg\" alt=\"Open In Colab\"/></a>"
      ]
    },
    {
      "cell_type": "code",
      "metadata": {
        "id": "c-Hqkyq0mWy6",
        "colab_type": "code",
        "colab": {
          "base_uri": "https://localhost:8080/",
          "height": 206
        },
        "outputId": "3c6a10d3-34de-4875-bc80-db035db6ac75"
      },
      "source": [
        "import numpy as np\n",
        "import pandas as pd\n",
        "url= \"https://archive.ics.uci.edu/ml/machine-learning-databases/00471/Data_for_UCI_named.csv\"\n",
        "elect_df = pd.read_csv(url)\n",
        "elect_df.head()"
      ],
      "execution_count": 1,
      "outputs": [
        {
          "output_type": "execute_result",
          "data": {
            "text/html": [
              "<div>\n",
              "<style scoped>\n",
              "    .dataframe tbody tr th:only-of-type {\n",
              "        vertical-align: middle;\n",
              "    }\n",
              "\n",
              "    .dataframe tbody tr th {\n",
              "        vertical-align: top;\n",
              "    }\n",
              "\n",
              "    .dataframe thead th {\n",
              "        text-align: right;\n",
              "    }\n",
              "</style>\n",
              "<table border=\"1\" class=\"dataframe\">\n",
              "  <thead>\n",
              "    <tr style=\"text-align: right;\">\n",
              "      <th></th>\n",
              "      <th>tau1</th>\n",
              "      <th>tau2</th>\n",
              "      <th>tau3</th>\n",
              "      <th>tau4</th>\n",
              "      <th>p1</th>\n",
              "      <th>p2</th>\n",
              "      <th>p3</th>\n",
              "      <th>p4</th>\n",
              "      <th>g1</th>\n",
              "      <th>g2</th>\n",
              "      <th>g3</th>\n",
              "      <th>g4</th>\n",
              "      <th>stab</th>\n",
              "      <th>stabf</th>\n",
              "    </tr>\n",
              "  </thead>\n",
              "  <tbody>\n",
              "    <tr>\n",
              "      <th>0</th>\n",
              "      <td>2.959060</td>\n",
              "      <td>3.079885</td>\n",
              "      <td>8.381025</td>\n",
              "      <td>9.780754</td>\n",
              "      <td>3.763085</td>\n",
              "      <td>-0.782604</td>\n",
              "      <td>-1.257395</td>\n",
              "      <td>-1.723086</td>\n",
              "      <td>0.650456</td>\n",
              "      <td>0.859578</td>\n",
              "      <td>0.887445</td>\n",
              "      <td>0.958034</td>\n",
              "      <td>0.055347</td>\n",
              "      <td>unstable</td>\n",
              "    </tr>\n",
              "    <tr>\n",
              "      <th>1</th>\n",
              "      <td>9.304097</td>\n",
              "      <td>4.902524</td>\n",
              "      <td>3.047541</td>\n",
              "      <td>1.369357</td>\n",
              "      <td>5.067812</td>\n",
              "      <td>-1.940058</td>\n",
              "      <td>-1.872742</td>\n",
              "      <td>-1.255012</td>\n",
              "      <td>0.413441</td>\n",
              "      <td>0.862414</td>\n",
              "      <td>0.562139</td>\n",
              "      <td>0.781760</td>\n",
              "      <td>-0.005957</td>\n",
              "      <td>stable</td>\n",
              "    </tr>\n",
              "    <tr>\n",
              "      <th>2</th>\n",
              "      <td>8.971707</td>\n",
              "      <td>8.848428</td>\n",
              "      <td>3.046479</td>\n",
              "      <td>1.214518</td>\n",
              "      <td>3.405158</td>\n",
              "      <td>-1.207456</td>\n",
              "      <td>-1.277210</td>\n",
              "      <td>-0.920492</td>\n",
              "      <td>0.163041</td>\n",
              "      <td>0.766689</td>\n",
              "      <td>0.839444</td>\n",
              "      <td>0.109853</td>\n",
              "      <td>0.003471</td>\n",
              "      <td>unstable</td>\n",
              "    </tr>\n",
              "    <tr>\n",
              "      <th>3</th>\n",
              "      <td>0.716415</td>\n",
              "      <td>7.669600</td>\n",
              "      <td>4.486641</td>\n",
              "      <td>2.340563</td>\n",
              "      <td>3.963791</td>\n",
              "      <td>-1.027473</td>\n",
              "      <td>-1.938944</td>\n",
              "      <td>-0.997374</td>\n",
              "      <td>0.446209</td>\n",
              "      <td>0.976744</td>\n",
              "      <td>0.929381</td>\n",
              "      <td>0.362718</td>\n",
              "      <td>0.028871</td>\n",
              "      <td>unstable</td>\n",
              "    </tr>\n",
              "    <tr>\n",
              "      <th>4</th>\n",
              "      <td>3.134112</td>\n",
              "      <td>7.608772</td>\n",
              "      <td>4.943759</td>\n",
              "      <td>9.857573</td>\n",
              "      <td>3.525811</td>\n",
              "      <td>-1.125531</td>\n",
              "      <td>-1.845975</td>\n",
              "      <td>-0.554305</td>\n",
              "      <td>0.797110</td>\n",
              "      <td>0.455450</td>\n",
              "      <td>0.656947</td>\n",
              "      <td>0.820923</td>\n",
              "      <td>0.049860</td>\n",
              "      <td>unstable</td>\n",
              "    </tr>\n",
              "  </tbody>\n",
              "</table>\n",
              "</div>"
            ],
            "text/plain": [
              "       tau1      tau2      tau3  ...        g4      stab     stabf\n",
              "0  2.959060  3.079885  8.381025  ...  0.958034  0.055347  unstable\n",
              "1  9.304097  4.902524  3.047541  ...  0.781760 -0.005957    stable\n",
              "2  8.971707  8.848428  3.046479  ...  0.109853  0.003471  unstable\n",
              "3  0.716415  7.669600  4.486641  ...  0.362718  0.028871  unstable\n",
              "4  3.134112  7.608772  4.943759  ...  0.820923  0.049860  unstable\n",
              "\n",
              "[5 rows x 14 columns]"
            ]
          },
          "metadata": {
            "tags": []
          },
          "execution_count": 1
        }
      ]
    },
    {
      "cell_type": "code",
      "metadata": {
        "id": "YFgunPcYZDV0",
        "colab_type": "code",
        "colab": {
          "base_uri": "https://localhost:8080/",
          "height": 293
        },
        "outputId": "aa7d7a16-dc19-46be-afba-94f8a5b5d728"
      },
      "source": [
        "#CHECK FOR COLUMNS WITH MISSING VALUES, OBVIOUSLY IT SHOWS THERE ISN'T ANY COLUMN WITH MISSING VALUES IN THE DATAFRAME:\n",
        "elect_df.isnull().sum()"
      ],
      "execution_count": 2,
      "outputs": [
        {
          "output_type": "execute_result",
          "data": {
            "text/plain": [
              "tau1     0\n",
              "tau2     0\n",
              "tau3     0\n",
              "tau4     0\n",
              "p1       0\n",
              "p2       0\n",
              "p3       0\n",
              "p4       0\n",
              "g1       0\n",
              "g2       0\n",
              "g3       0\n",
              "g4       0\n",
              "stab     0\n",
              "stabf    0\n",
              "dtype: int64"
            ]
          },
          "metadata": {
            "tags": []
          },
          "execution_count": 2
        }
      ]
    },
    {
      "cell_type": "code",
      "metadata": {
        "id": "EjFvJesDwNgR",
        "colab_type": "code",
        "colab": {
          "base_uri": "https://localhost:8080/",
          "height": 72
        },
        "outputId": "a336691f-2df1-457d-8345-eec4db812842"
      },
      "source": [
        "elect_df['stabf'].value_counts()"
      ],
      "execution_count": 3,
      "outputs": [
        {
          "output_type": "execute_result",
          "data": {
            "text/plain": [
              "unstable    6380\n",
              "stable      3620\n",
              "Name: stabf, dtype: int64"
            ]
          },
          "metadata": {
            "tags": []
          },
          "execution_count": 3
        }
      ]
    },
    {
      "cell_type": "code",
      "metadata": {
        "id": "gc0F2mGfxBGh",
        "colab_type": "code",
        "colab": {
          "base_uri": "https://localhost:8080/",
          "height": 403
        },
        "outputId": "ace11d44-b9c6-4c2c-ae91-5307bba39804"
      },
      "source": [
        "elect_df.info()"
      ],
      "execution_count": 4,
      "outputs": [
        {
          "output_type": "stream",
          "text": [
            "<class 'pandas.core.frame.DataFrame'>\n",
            "RangeIndex: 10000 entries, 0 to 9999\n",
            "Data columns (total 14 columns):\n",
            " #   Column  Non-Null Count  Dtype  \n",
            "---  ------  --------------  -----  \n",
            " 0   tau1    10000 non-null  float64\n",
            " 1   tau2    10000 non-null  float64\n",
            " 2   tau3    10000 non-null  float64\n",
            " 3   tau4    10000 non-null  float64\n",
            " 4   p1      10000 non-null  float64\n",
            " 5   p2      10000 non-null  float64\n",
            " 6   p3      10000 non-null  float64\n",
            " 7   p4      10000 non-null  float64\n",
            " 8   g1      10000 non-null  float64\n",
            " 9   g2      10000 non-null  float64\n",
            " 10  g3      10000 non-null  float64\n",
            " 11  g4      10000 non-null  float64\n",
            " 12  stab    10000 non-null  float64\n",
            " 13  stabf   10000 non-null  object \n",
            "dtypes: float64(13), object(1)\n",
            "memory usage: 1.1+ MB\n"
          ],
          "name": "stdout"
        }
      ]
    },
    {
      "cell_type": "code",
      "metadata": {
        "id": "Ed81UgB_F1wr",
        "colab_type": "code",
        "colab": {
          "base_uri": "https://localhost:8080/",
          "height": 72
        },
        "outputId": "d7a9a3b9-c3ee-4a39-c9a8-838ce5caa02b"
      },
      "source": [
        "elect_df.columns"
      ],
      "execution_count": 5,
      "outputs": [
        {
          "output_type": "execute_result",
          "data": {
            "text/plain": [
              "Index(['tau1', 'tau2', 'tau3', 'tau4', 'p1', 'p2', 'p3', 'p4', 'g1', 'g2',\n",
              "       'g3', 'g4', 'stab', 'stabf'],\n",
              "      dtype='object')"
            ]
          },
          "metadata": {
            "tags": []
          },
          "execution_count": 5
        }
      ]
    },
    {
      "cell_type": "code",
      "metadata": {
        "id": "sMQ3H4WnCAY6",
        "colab_type": "code",
        "colab": {}
      },
      "source": [
        "#More preprocessing\n",
        "elect_df = elect_df.drop(columns=['stab'])\n"
      ],
      "execution_count": 6,
      "outputs": []
    },
    {
      "cell_type": "code",
      "metadata": {
        "id": "4o12cO_dJg1w",
        "colab_type": "code",
        "colab": {}
      },
      "source": [
        "X = elect_df.drop(columns='stabf')\n",
        "y = elect_df['stabf']"
      ],
      "execution_count": 7,
      "outputs": []
    },
    {
      "cell_type": "code",
      "metadata": {
        "id": "TRRJ3EnBO4c4",
        "colab_type": "code",
        "colab": {
          "base_uri": "https://localhost:8080/",
          "height": 72
        },
        "outputId": "16c57a44-d4c1-4f3b-f8f3-bc908ae73451"
      },
      "source": [
        "#Splitting the data into training and testing data sets\n",
        "from sklearn.model_selection import train_test_split\n",
        "x_train,x_test,y_train,y_test = train_test_split(X,y, test_size=0.2, random_state=1)\n",
        "y_train.value_counts()\n"
      ],
      "execution_count": 8,
      "outputs": [
        {
          "output_type": "execute_result",
          "data": {
            "text/plain": [
              "unstable    5092\n",
              "stable      2908\n",
              "Name: stabf, dtype: int64"
            ]
          },
          "metadata": {
            "tags": []
          },
          "execution_count": 8
        }
      ]
    },
    {
      "cell_type": "code",
      "metadata": {
        "id": "Mw7Aly6cSw2B",
        "colab_type": "code",
        "colab": {}
      },
      "source": [
        "from sklearn.preprocessing import StandardScaler\n",
        "scaler = StandardScaler()\n",
        "normalised_train_df = scaler.fit_transform(x_train)\n",
        "normalised_train_df = pd.DataFrame(normalised_train_df, columns = x_train.columns)"
      ],
      "execution_count": 9,
      "outputs": []
    },
    {
      "cell_type": "code",
      "metadata": {
        "id": "LalsR6vJV_hp",
        "colab_type": "code",
        "colab": {}
      },
      "source": [
        "x_test = x_test.reset_index(drop=True)\n",
        "normalised_test_df = scaler.transform(x_test)\n",
        "normalised_test_df = pd.DataFrame(normalised_test_df, columns=x_test.columns)"
      ],
      "execution_count": 10,
      "outputs": []
    },
    {
      "cell_type": "code",
      "metadata": {
        "id": "3eSjyAl1jEXd",
        "colab_type": "code",
        "colab": {
          "base_uri": "https://localhost:8080/",
          "height": 109
        },
        "outputId": "72a327cc-cdbf-4f5f-f451-47d0ce4c78ef"
      },
      "source": [
        "#Logistic Regression\n",
        "from sklearn.linear_model import LogisticRegression\n",
        "log_reg = LogisticRegression()\n",
        "log_reg.fit(normalised_train_df, y_train)"
      ],
      "execution_count": 11,
      "outputs": [
        {
          "output_type": "execute_result",
          "data": {
            "text/plain": [
              "LogisticRegression(C=1.0, class_weight=None, dual=False, fit_intercept=True,\n",
              "                   intercept_scaling=1, l1_ratio=None, max_iter=100,\n",
              "                   multi_class='auto', n_jobs=None, penalty='l2',\n",
              "                   random_state=None, solver='lbfgs', tol=0.0001, verbose=0,\n",
              "                   warm_start=False)"
            ]
          },
          "metadata": {
            "tags": []
          },
          "execution_count": 11
        }
      ]
    },
    {
      "cell_type": "code",
      "metadata": {
        "id": "dPQ516KljW9R",
        "colab_type": "code",
        "colab": {
          "base_uri": "https://localhost:8080/",
          "height": 35
        },
        "outputId": "872b128e-2dce-48c2-bbda-2e16267014bf"
      },
      "source": [
        "from sklearn.model_selection import cross_val_score\n",
        "scores = cross_val_score(log_reg, normalised_train_df, y_train, cv=5, scoring='f1_macro')\n",
        "scores"
      ],
      "execution_count": 12,
      "outputs": [
        {
          "output_type": "execute_result",
          "data": {
            "text/plain": [
              "array([0.8049015 , 0.80345987, 0.80785034, 0.79645688, 0.7835111 ])"
            ]
          },
          "metadata": {
            "tags": []
          },
          "execution_count": 12
        }
      ]
    },
    {
      "cell_type": "code",
      "metadata": {
        "id": "G68rucykjwn3",
        "colab_type": "code",
        "colab": {}
      },
      "source": [
        "from sklearn.metrics import recall_score, accuracy_score, precision_score, f1_score,confusion_matrix\n",
        "from sklearn.metrics import plot_confusion_matrix\n",
        "new_predictions = log_reg.predict(normalised_test_df)\n",
        "cnf_mat = confusion_matrix(y_true=y_test, y_pred=new_predictions,labels=['stable','unstable'])"
      ],
      "execution_count": 13,
      "outputs": []
    },
    {
      "cell_type": "code",
      "metadata": {
        "id": "SPTuvP9Hj2p0",
        "colab_type": "code",
        "colab": {
          "base_uri": "https://localhost:8080/",
          "height": 54
        },
        "outputId": "305d375f-1a94-4677-b212-09f0fa1792a2"
      },
      "source": [
        "cnf_mat"
      ],
      "execution_count": 14,
      "outputs": [
        {
          "output_type": "execute_result",
          "data": {
            "text/plain": [
              "array([[ 494,  218],\n",
              "       [ 174, 1114]])"
            ]
          },
          "metadata": {
            "tags": []
          },
          "execution_count": 14
        }
      ]
    },
    {
      "cell_type": "code",
      "metadata": {
        "id": "4NQ-6WVXkHRx",
        "colab_type": "code",
        "colab": {
          "base_uri": "https://localhost:8080/",
          "height": 297
        },
        "outputId": "b89d18b4-b6d7-458f-e8cb-709ade9c88d8"
      },
      "source": [
        "from sklearn.ensemble import RandomForestClassifier\n",
        "model = RandomForestClassifier(random_state=1)\n",
        "# fit the model on the whole dataset\n",
        "model.fit(normalised_train_df,y_train)\n",
        "plot_confusion_matrix(model, \n",
        "                      normalised_test_df, \n",
        "                      y_test, \n",
        "                      display_labels=[\"stable\", \"unstable\"])"
      ],
      "execution_count": 15,
      "outputs": [
        {
          "output_type": "execute_result",
          "data": {
            "text/plain": [
              "<sklearn.metrics._plot.confusion_matrix.ConfusionMatrixDisplay at 0x7ff8bd9c4f98>"
            ]
          },
          "metadata": {
            "tags": []
          },
          "execution_count": 15
        },
        {
          "output_type": "display_data",
          "data": {
            "image/png": "[encoded data removed]",
            "text/plain": [
              "<Figure size 432x288 with 2 Axes>"
            ]
          },
          "metadata": {
            "tags": [],
            "needs_background": "light"
          }
        }
      ]
    },
    {
      "cell_type": "code",
      "metadata": {
        "id": "COrpqJYWk6Hn",
        "colab_type": "code",
        "colab": {}
      },
      "source": [
        "new_predictions1 = model.predict(normalised_test_df)\n",
        "cnf_mat1 = confusion_matrix(y_true=y_test, y_pred=new_predictions1,labels=['stable','unstable'])\n"
      ],
      "execution_count": 16,
      "outputs": []
    },
    {
      "cell_type": "code",
      "metadata": {
        "id": "h-N7Uczpk-o1",
        "colab_type": "code",
        "colab": {
          "base_uri": "https://localhost:8080/",
          "height": 54
        },
        "outputId": "053a4969-eac9-4d60-855a-18a92932c323"
      },
      "source": [
        "cnf_mat1"
      ],
      "execution_count": 17,
      "outputs": [
        {
          "output_type": "execute_result",
          "data": {
            "text/plain": [
              "array([[ 625,   87],\n",
              "       [  55, 1233]])"
            ]
          },
          "metadata": {
            "tags": []
          },
          "execution_count": 17
        }
      ]
    },
    {
      "cell_type": "markdown",
      "metadata": {
        "id": "3sTiIEdClswE",
        "colab_type": "text"
      },
      "source": [
        "# **The model evaluation metrics**"
      ]
    },
    {
      "cell_type": "code",
      "metadata": {
        "id": "08vYdRzrmIEc",
        "colab_type": "code",
        "colab": {
          "base_uri": "https://localhost:8080/",
          "height": 35
        },
        "outputId": "d80114ce-631a-4be9-ddaa-906087421f3a"
      },
      "source": [
        "accuracy = accuracy_score(y_true=y_test, y_pred=new_predictions1)\n",
        "accuracy"
      ],
      "execution_count": 18,
      "outputs": [
        {
          "output_type": "execute_result",
          "data": {
            "text/plain": [
              "0.929"
            ]
          },
          "metadata": {
            "tags": []
          },
          "execution_count": 18
        }
      ]
    },
    {
      "cell_type": "code",
      "metadata": {
        "id": "_RZYAr03mUdY",
        "colab_type": "code",
        "colab": {
          "base_uri": "https://localhost:8080/",
          "height": 35
        },
        "outputId": "68957863-c078-4a26-d500-421496baa899"
      },
      "source": [
        "precision = precision_score(y_true=y_test, y_pred=new_predictions1, pos_label='stable')\n",
        "precision"
      ],
      "execution_count": 20,
      "outputs": [
        {
          "output_type": "execute_result",
          "data": {
            "text/plain": [
              "0.9191176470588235"
            ]
          },
          "metadata": {
            "tags": []
          },
          "execution_count": 20
        }
      ]
    },
    {
      "cell_type": "code",
      "metadata": {
        "id": "OQgjZKOtmno5",
        "colab_type": "code",
        "colab": {
          "base_uri": "https://localhost:8080/",
          "height": 35
        },
        "outputId": "b9c51086-8b4a-40e9-a43b-cd6731056759"
      },
      "source": [
        "recall = recall_score(y_true=y_test, y_pred=new_predictions1, pos_label='stable')\n",
        "recall"
      ],
      "execution_count": 21,
      "outputs": [
        {
          "output_type": "execute_result",
          "data": {
            "text/plain": [
              "0.8778089887640449"
            ]
          },
          "metadata": {
            "tags": []
          },
          "execution_count": 21
        }
      ]
    },
    {
      "cell_type": "code",
      "metadata": {
        "id": "SagZCP6om6ZK",
        "colab_type": "code",
        "colab": {
          "base_uri": "https://localhost:8080/",
          "height": 35
        },
        "outputId": "98276479-ddec-40d5-91ed-e3fc51ada98c"
      },
      "source": [
        "f1 = f1_score(y_true=y_test, y_pred=new_predictions1, pos_label='stable')\n",
        "f1"
      ],
      "execution_count": 23,
      "outputs": [
        {
          "output_type": "execute_result",
          "data": {
            "text/plain": [
              "0.8979885057471264"
            ]
          },
          "metadata": {
            "tags": []
          },
          "execution_count": 23
        }
      ]
    },
    {
      "cell_type": "markdown",
      "metadata": {
        "id": "TDCoDWO4nTkZ",
        "colab_type": "text"
      },
      "source": [
        "**EXTRA TREE CLASSIFIER**"
      ]
    },
    {
      "cell_type": "code",
      "metadata": {
        "id": "bWOdJbKbnSCz",
        "colab_type": "code",
        "colab": {}
      },
      "source": [
        "from sklearn.ensemble import ExtraTreesClassifier\n",
        "clf = ExtraTreesClassifier(random_state=1)\n",
        "clf.fit(normalised_train_df,y_train)\n",
        "new_predictions2 = clf.predict(normalised_test_df)\n",
        "cnf_mat2 = confusion_matrix(y_true=y_test, y_pred=new_predictions2,labels=['stable','unstable'])"
      ],
      "execution_count": 25,
      "outputs": []
    },
    {
      "cell_type": "code",
      "metadata": {
        "id": "mLbbMEDCnsJT",
        "colab_type": "code",
        "colab": {
          "base_uri": "https://localhost:8080/",
          "height": 54
        },
        "outputId": "4e204399-bff5-4673-c405-2fa8ad82beaf"
      },
      "source": [
        "cnf_mat2"
      ],
      "execution_count": 26,
      "outputs": [
        {
          "output_type": "execute_result",
          "data": {
            "text/plain": [
              "array([[ 606,  106],\n",
              "       [  38, 1250]])"
            ]
          },
          "metadata": {
            "tags": []
          },
          "execution_count": 26
        }
      ]
    },
    {
      "cell_type": "markdown",
      "metadata": {
        "id": "LQ-kXN0mpXWq",
        "colab_type": "text"
      },
      "source": [
        "**The Model Evaluation Metrics**"
      ]
    },
    {
      "cell_type": "code",
      "metadata": {
        "id": "i8xd-Y04pOwN",
        "colab_type": "code",
        "colab": {
          "base_uri": "https://localhost:8080/",
          "height": 35
        },
        "outputId": "924fd83a-c539-48d2-97dd-cd074bdf66ba"
      },
      "source": [
        "accuracy = accuracy_score(y_true=y_test, y_pred=new_predictions2)\n",
        "accuracy"
      ],
      "execution_count": 27,
      "outputs": [
        {
          "output_type": "execute_result",
          "data": {
            "text/plain": [
              "0.928"
            ]
          },
          "metadata": {
            "tags": []
          },
          "execution_count": 27
        }
      ]
    },
    {
      "cell_type": "code",
      "metadata": {
        "id": "stefQIC9p2ZW",
        "colab_type": "code",
        "colab": {
          "base_uri": "https://localhost:8080/",
          "height": 35
        },
        "outputId": "a0d3918c-414c-4279-acab-b9836c64ae75"
      },
      "source": [
        "precision = precision_score(y_true=y_test, y_pred=new_predictions2, pos_label='stable')\n",
        "precision"
      ],
      "execution_count": 28,
      "outputs": [
        {
          "output_type": "execute_result",
          "data": {
            "text/plain": [
              "0.9409937888198758"
            ]
          },
          "metadata": {
            "tags": []
          },
          "execution_count": 28
        }
      ]
    },
    {
      "cell_type": "code",
      "metadata": {
        "id": "vr6PndeoqJ50",
        "colab_type": "code",
        "colab": {
          "base_uri": "https://localhost:8080/",
          "height": 35
        },
        "outputId": "f87976a4-8ad5-40a4-9372-b9ab67798e6c"
      },
      "source": [
        "recall = recall_score(y_true=y_test, y_pred=new_predictions2, pos_label='stable')\n",
        "print('Recall: {}'.format(round(recall*100), 2))"
      ],
      "execution_count": 29,
      "outputs": [
        {
          "output_type": "stream",
          "text": [
            "Recall: 85.0\n"
          ],
          "name": "stdout"
        }
      ]
    },
    {
      "cell_type": "code",
      "metadata": {
        "id": "f0laPMINqRJI",
        "colab_type": "code",
        "colab": {
          "base_uri": "https://localhost:8080/",
          "height": 35
        },
        "outputId": "8328ab65-f18e-447b-ec97-dfc3c0b633d8"
      },
      "source": [
        "f1 = f1_score(y_true=y_test, y_pred=new_predictions2, pos_label='stable')\n",
        "print('F1: {}'.format(round(f1*100), 2))"
      ],
      "execution_count": 30,
      "outputs": [
        {
          "output_type": "stream",
          "text": [
            "F1: 89.0\n"
          ],
          "name": "stdout"
        }
      ]
    },
    {
      "cell_type": "markdown",
      "metadata": {
        "id": "Ev8BBJ-GrF2O",
        "colab_type": "text"
      },
      "source": [
        "**IMPROVING EXTRA TREE**"
      ]
    },
    {
      "cell_type": "code",
      "metadata": {
        "id": "g97cvey9xpHN",
        "colab_type": "code",
        "colab": {
          "base_uri": "https://localhost:8080/",
          "height": 54
        },
        "outputId": "5c5a4fb9-dd0d-4f73-9cd7-f8ba35f79e07"
      },
      "source": [
        "from sklearn.model_selection import RandomizedSearchCV\n",
        "n_estimators = [50, 100, 300, 500, 1000]\n",
        "min_samples_split = [2, 3, 5, 7, 9]\n",
        "min_samples_leaf = [1, 2, 4, 6, 8]\n",
        "max_features = ['auto', 'sqrt', 'log2', None]\n",
        "hyperparameter_grid = {'n_estimators': n_estimators,'min_samples_leaf': min_samples_leaf,'min_samples_split': min_samples_split,\n",
        "                       'max_features': max_features}\n",
        "utility = RandomizedSearchCV(estimator=ExtraTreesClassifier(random_state=1),\n",
        "                            param_distributions=hyperparameter_grid,random_state=1)\n",
        "result = utility.fit(normalised_train_df, y_train)\n",
        "\n",
        "print('Best Score: ', result.best_score_)\n",
        "print('Best Params: ', result.best_params_)"
      ],
      "execution_count": 31,
      "outputs": [
        {
          "output_type": "stream",
          "text": [
            "Best Score:  0.9241249999999999\n",
            "Best Params:  {'n_estimators': 1000, 'min_samples_split': 2, 'min_samples_leaf': 8, 'max_features': None}\n"
          ],
          "name": "stdout"
        }
      ]
    },
    {
      "cell_type": "markdown",
      "metadata": {
        "id": "oRgLo0d1tgib",
        "colab_type": "text"
      },
      "source": [
        "**The performance Metrics**\n"
      ]
    },
    {
      "cell_type": "code",
      "metadata": {
        "id": "Vbpp8TkTyeQv",
        "colab_type": "code",
        "colab": {
          "base_uri": "https://localhost:8080/",
          "height": 54
        },
        "outputId": "1aea136f-4a1e-4698-c741-74c2d41774ab"
      },
      "source": [
        "#improved Extratree classifier\n",
        "clfe = ExtraTreesClassifier(random_state=1,n_estimators=1000,min_samples_split=2, min_samples_leaf= 8,max_features= None)\n",
        "clfe.fit(normalised_train_df,y_train)\n",
        "new_predictions3 = clfe.predict(normalised_test_df)\n",
        "cnf_mat3 = confusion_matrix(y_true=y_test, y_pred=new_predictions3,labels=['stable','unstable'])\n",
        "cnf_mat3"
      ],
      "execution_count": 32,
      "outputs": [
        {
          "output_type": "execute_result",
          "data": {
            "text/plain": [
              "array([[ 619,   93],\n",
              "       [  53, 1235]])"
            ]
          },
          "metadata": {
            "tags": []
          },
          "execution_count": 32
        }
      ]
    },
    {
      "cell_type": "code",
      "metadata": {
        "id": "ojAn6KrnNDO1",
        "colab_type": "code",
        "colab": {
          "base_uri": "https://localhost:8080/",
          "height": 72
        },
        "outputId": "d3f7409d-1dbb-4f8f-f2e9-950e82189708"
      },
      "source": [
        "clfe.feature_importances_"
      ],
      "execution_count": 38,
      "outputs": [
        {
          "output_type": "execute_result",
          "data": {
            "text/plain": [
              "array([0.13723975, 0.1405075 , 0.13468029, 0.13541676, 0.00368342,\n",
              "       0.00533686, 0.00542927, 0.00496249, 0.10256244, 0.10757765,\n",
              "       0.11306268, 0.10954089])"
            ]
          },
          "metadata": {
            "tags": []
          },
          "execution_count": 38
        }
      ]
    },
    {
      "cell_type": "code",
      "metadata": {
        "id": "KpYF5wW9J9go",
        "colab_type": "code",
        "colab": {
          "base_uri": "https://localhost:8080/",
          "height": 35
        },
        "outputId": "45a73b88-0e5d-4b3c-f011-4560d65ba81d"
      },
      "source": [
        "accuracy = accuracy_score(y_true=y_test, y_pred=new_predictions3)\n",
        "accuracy"
      ],
      "execution_count": 80,
      "outputs": [
        {
          "output_type": "execute_result",
          "data": {
            "text/plain": [
              "0.927"
            ]
          },
          "metadata": {
            "tags": []
          },
          "execution_count": 80
        }
      ]
    },
    {
      "cell_type": "code",
      "metadata": {
        "id": "TSAId0DkKxuM",
        "colab_type": "code",
        "colab": {
          "base_uri": "https://localhost:8080/",
          "height": 35
        },
        "outputId": "c04d8698-6eb2-44cd-952b-289560584235"
      },
      "source": [
        "precision = precision_score(y_true=y_test, y_pred=new_predictions3, pos_label='stable')\n",
        "precision"
      ],
      "execution_count": 82,
      "outputs": [
        {
          "output_type": "execute_result",
          "data": {
            "text/plain": [
              "0.9211309523809523"
            ]
          },
          "metadata": {
            "tags": []
          },
          "execution_count": 82
        }
      ]
    },
    {
      "cell_type": "code",
      "metadata": {
        "id": "b104a5mALBIP",
        "colab_type": "code",
        "colab": {
          "base_uri": "https://localhost:8080/",
          "height": 35
        },
        "outputId": "36cbd759-bac6-4e92-f844-c222ff9a5baf"
      },
      "source": [
        "recall = recall_score(y_true=y_test, y_pred=new_predictions3, pos_label='stable')\n",
        "recall"
      ],
      "execution_count": 83,
      "outputs": [
        {
          "output_type": "execute_result",
          "data": {
            "text/plain": [
              "0.8693820224719101"
            ]
          },
          "metadata": {
            "tags": []
          },
          "execution_count": 83
        }
      ]
    },
    {
      "cell_type": "code",
      "metadata": {
        "id": "qc0NZcRvLZGN",
        "colab_type": "code",
        "colab": {
          "base_uri": "https://localhost:8080/",
          "height": 35
        },
        "outputId": "522f9de0-f40a-4094-a8f1-978b32e2bbc7"
      },
      "source": [
        "f1 = f1_score(y_true=y_test, y_pred=new_predictions3, pos_label='stable')\n",
        "f1"
      ],
      "execution_count": 84,
      "outputs": [
        {
          "output_type": "execute_result",
          "data": {
            "text/plain": [
              "0.8945086705202311"
            ]
          },
          "metadata": {
            "tags": []
          },
          "execution_count": 84
        }
      ]
    },
    {
      "cell_type": "markdown",
      "metadata": {
        "id": "WkKWZVvoNGAF",
        "colab_type": "text"
      },
      "source": [
        "**XGBOOST CLASSIFIER**"
      ]
    },
    {
      "cell_type": "code",
      "metadata": {
        "id": "ijC7vXGHNVaf",
        "colab_type": "code",
        "colab": {
          "base_uri": "https://localhost:8080/",
          "height": 54
        },
        "outputId": "efbeb3a1-96bf-450d-c1ff-a0b5b5f7f711"
      },
      "source": [
        "from xgboost import XGBClassifier\n",
        "model3 = XGBClassifier(random_state=1)\n",
        "model3.fit(normalised_train_df, y_train)\n",
        "new_predictions4 = model3.predict(normalised_test_df)\n",
        "cnf_mat4 = confusion_matrix(y_true=y_test, y_pred=new_predictions4, labels=['stable','unstable'])\n",
        "cnf_mat4\n"
      ],
      "execution_count": 51,
      "outputs": [
        {
          "output_type": "execute_result",
          "data": {
            "text/plain": [
              "array([[ 603,  109],\n",
              "       [  52, 1236]])"
            ]
          },
          "metadata": {
            "tags": []
          },
          "execution_count": 51
        }
      ]
    },
    {
      "cell_type": "markdown",
      "metadata": {
        "id": "rTnnO-JsN8oU",
        "colab_type": "text"
      },
      "source": [
        "**MODEL PERFORMANCE METRICS**"
      ]
    },
    {
      "cell_type": "code",
      "metadata": {
        "id": "ysL98ewuOFsM",
        "colab_type": "code",
        "colab": {
          "base_uri": "https://localhost:8080/",
          "height": 35
        },
        "outputId": "84fd05fb-1004-42d9-8001-33f951149343"
      },
      "source": [
        "accuracy = accuracy_score(y_true=y_test, y_pred=new_predictions4)\n",
        "accuracy"
      ],
      "execution_count": 85,
      "outputs": [
        {
          "output_type": "execute_result",
          "data": {
            "text/plain": [
              "0.9195"
            ]
          },
          "metadata": {
            "tags": []
          },
          "execution_count": 85
        }
      ]
    },
    {
      "cell_type": "code",
      "metadata": {
        "id": "zye7OimfOeyg",
        "colab_type": "code",
        "colab": {
          "base_uri": "https://localhost:8080/",
          "height": 35
        },
        "outputId": "9307bad2-facb-4094-f61b-7d41cb2b66bb"
      },
      "source": [
        "precision = precision_score(y_true=y_test, y_pred=new_predictions4, pos_label='stable')\n",
        "print('Precision: {}'.format(round(precision*100), 2))"
      ],
      "execution_count": 53,
      "outputs": [
        {
          "output_type": "stream",
          "text": [
            "Precision: 92.0\n"
          ],
          "name": "stdout"
        }
      ]
    },
    {
      "cell_type": "code",
      "metadata": {
        "id": "tx6ugFLXPIbM",
        "colab_type": "code",
        "colab": {
          "base_uri": "https://localhost:8080/",
          "height": 35
        },
        "outputId": "5cdc7513-14c1-49c6-90d3-69835828b77a"
      },
      "source": [
        "recall = recall_score(y_true=y_test, y_pred=new_predictions4, pos_label='stable')\n",
        "print('Recall: {}'.format(round(recall*100), 2))"
      ],
      "execution_count": 54,
      "outputs": [
        {
          "output_type": "stream",
          "text": [
            "Recall: 85.0\n"
          ],
          "name": "stdout"
        }
      ]
    },
    {
      "cell_type": "code",
      "metadata": {
        "id": "HFd81nXOP2AK",
        "colab_type": "code",
        "colab": {
          "base_uri": "https://localhost:8080/",
          "height": 35
        },
        "outputId": "2a5984b2-0bcb-4ee7-d760-3d2300f75882"
      },
      "source": [
        "f1 = f1_score(y_true=y_test, y_pred=new_predictions4, pos_label='stable')\n",
        "print('F1: {}'.format(round(f1*100), 2))"
      ],
      "execution_count": 55,
      "outputs": [
        {
          "output_type": "stream",
          "text": [
            "F1: 88.0\n"
          ],
          "name": "stdout"
        }
      ]
    },
    {
      "cell_type": "markdown",
      "metadata": {
        "id": "gKMMgoNfQh8t",
        "colab_type": "text"
      },
      "source": [
        "**LGBM Classifier**"
      ]
    },
    {
      "cell_type": "code",
      "metadata": {
        "id": "LQUWPVQ4Qq2Q",
        "colab_type": "code",
        "colab": {
          "base_uri": "https://localhost:8080/",
          "height": 54
        },
        "outputId": "9a801985-3d90-4c33-e4c3-33c9987e52df"
      },
      "source": [
        "from lightgbm import LGBMClassifier\n",
        "model4 = LGBMClassifier(random_state=1)\n",
        "# fit the model on the whole dataset\n",
        "model4.fit(normalised_train_df, y_train)\n",
        "new_predictions5 = model4.predict(normalised_test_df)\n",
        "cnf_mat5 = confusion_matrix(y_true=y_test, y_pred=new_predictions5,labels=['stable','unstable'])\n",
        "cnf_mat5\n"
      ],
      "execution_count": 60,
      "outputs": [
        {
          "output_type": "execute_result",
          "data": {
            "text/plain": [
              "array([[ 635,   77],\n",
              "       [  48, 1240]])"
            ]
          },
          "metadata": {
            "tags": []
          },
          "execution_count": 60
        }
      ]
    },
    {
      "cell_type": "code",
      "metadata": {
        "id": "hfwMn2jPAWd8",
        "colab_type": "code",
        "colab": {
          "base_uri": "https://localhost:8080/",
          "height": 35
        },
        "outputId": "ecb7044b-6abb-4abf-ed28-7d33b7aa5da9"
      },
      "source": [
        "accuracy = accuracy_score(y_true=y_test, y_pred=new_predictions5)\n",
        "accuracy"
      ],
      "execution_count": 86,
      "outputs": [
        {
          "output_type": "execute_result",
          "data": {
            "text/plain": [
              "0.9375"
            ]
          },
          "metadata": {
            "tags": []
          },
          "execution_count": 86
        }
      ]
    },
    {
      "cell_type": "code",
      "metadata": {
        "id": "AVQI33aYCD5J",
        "colab_type": "code",
        "colab": {
          "base_uri": "https://localhost:8080/",
          "height": 35
        },
        "outputId": "f4eb75ea-b508-421e-d690-efcf8ede689e"
      },
      "source": [
        "precision = precision_score(y_true=y_test, y_pred=new_predictions5, pos_label='stable')\n",
        "precision"
      ],
      "execution_count": 87,
      "outputs": [
        {
          "output_type": "execute_result",
          "data": {
            "text/plain": [
              "0.9297218155197657"
            ]
          },
          "metadata": {
            "tags": []
          },
          "execution_count": 87
        }
      ]
    },
    {
      "cell_type": "code",
      "metadata": {
        "id": "S64AZhjKChYW",
        "colab_type": "code",
        "colab": {
          "base_uri": "https://localhost:8080/",
          "height": 35
        },
        "outputId": "18a5b5b9-7521-4433-c553-76a62727750a"
      },
      "source": [
        "recall = recall_score(y_true=y_test, y_pred=new_predictions5, pos_label='stable')\n",
        "recall"
      ],
      "execution_count": 88,
      "outputs": [
        {
          "output_type": "execute_result",
          "data": {
            "text/plain": [
              "0.8918539325842697"
            ]
          },
          "metadata": {
            "tags": []
          },
          "execution_count": 88
        }
      ]
    },
    {
      "cell_type": "code",
      "metadata": {
        "id": "8yFOJ_zRCx1l",
        "colab_type": "code",
        "colab": {
          "base_uri": "https://localhost:8080/",
          "height": 35
        },
        "outputId": "7e8235ee-197a-4bc7-f314-a27c6b80bbc5"
      },
      "source": [
        "f1 = f1_score(y_true=y_test, y_pred=new_predictions5, pos_label='stable')\n",
        "f1"
      ],
      "execution_count": 89,
      "outputs": [
        {
          "output_type": "execute_result",
          "data": {
            "text/plain": [
              "0.910394265232975"
            ]
          },
          "metadata": {
            "tags": []
          },
          "execution_count": 89
        }
      ]
    }
  ]
}